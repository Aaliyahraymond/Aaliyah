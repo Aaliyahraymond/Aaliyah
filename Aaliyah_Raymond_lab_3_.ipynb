{
  "nbformat": 4,
  "nbformat_minor": 0,
  "metadata": {
    "colab": {
      "provenance": [],
      "authorship_tag": "ABX9TyPEvTpjXTKwXdXgZM0x+Aew",
      "include_colab_link": true
    },
    "kernelspec": {
      "name": "python3",
      "display_name": "Python 3"
    },
    "language_info": {
      "name": "python"
    }
  },
  "cells": [
    {
      "cell_type": "markdown",
      "metadata": {
        "id": "view-in-github",
        "colab_type": "text"
      },
      "source": [
        "<a href=\"https://colab.research.google.com/github/Aaliyahraymond/Aaliyah/blob/main/Aaliyah_Raymond_lab_3_.ipynb\" target=\"_parent\"><img src=\"https://colab.research.google.com/assets/colab-badge.svg\" alt=\"Open In Colab\"/></a>"
      ]
    },
    {
      "cell_type": "code",
      "execution_count": null,
      "metadata": {
        "colab": {
          "base_uri": "https://localhost:8080/"
        },
        "id": "P32bx9fPPwLd",
        "outputId": "090e6d69-b7be-4406-9c75-bdf8b2af643e"
      },
      "outputs": [
        {
          "output_type": "stream",
          "name": "stdout",
          "text": [
            "imported some packages\n"
          ]
        }
      ],
      "source": [
        "# package to handle thread-base paralleism\n",
        "import threading\n",
        "#package to handle time related functions\n",
        "import time\n",
        "\n",
        "print (\"imported some packages\")"
      ]
    },
    {
      "cell_type": "code",
      "source": [
        "# respresents a distrubuted database system\n",
        "class DatabaseNode:\n",
        "  def _init_(self, node_id):\n",
        "      # unique identifier for each node\n",
        "      self.node_id = node_id\n",
        "      # data stored locally within the node\n",
        "      self.data ={}\n",
        "      #list of relica nodes\n",
        "      self.replica_nodes=[]\n",
        "    #recieve replicated data from other nodes\n",
        "\n",
        "  def receive_replication(self, key, value):\n",
        "    print(f\"Node {self.node_id}: Replictaion - Key: {key}, Value: {value}\")\n",
        "  def receive_replication(self, key, value):\n",
        "    print(f\"Node {self.node_id}: Replictaion - Key: {key}, Value: {value}\")\n",
        "\n",
        "\n"
      ],
      "metadata": {
        "id": "suok6a09SC17"
      },
      "execution_count": null,
      "outputs": []
    },
    {
      "cell_type": "code",
      "source": [],
      "metadata": {
        "id": "Xl6BAi-ZVEZ-"
      },
      "execution_count": null,
      "outputs": []
    },
    {
      "cell_type": "code",
      "source": [
        "#recieve replicated data from other nodes\n",
        "def receive_replication(self, key, value):\n",
        " print(f\"Node {self.node_id}: Replictaion - Key: {key}, Value: {value}\")\n"
      ],
      "metadata": {
        "id": "-FXG5Fm-XBMT"
      },
      "execution_count": null,
      "outputs": []
    },
    {
      "cell_type": "code",
      "source": [
        "# simulates a read operation on the data base node\n",
        "def read_data(self, key):\n",
        "    print(f\"Node {self.node_id}: Read Operation - Key: {key}, Value: {self.data.get(key, 'Not found')}\")"
      ],
      "metadata": {
        "id": "j86uzif3X5gw"
      },
      "execution_count": null,
      "outputs": []
    },
    {
      "cell_type": "code",
      "source": [
        "print(\"created the node that represents the distrubted database system\")"
      ],
      "metadata": {
        "colab": {
          "base_uri": "https://localhost:8080/"
        },
        "id": "uMSQG2IeY8z2",
        "outputId": "8f486251-8641-4e83-8413-49d944e922ff"
      },
      "execution_count": null,
      "outputs": [
        {
          "output_type": "stream",
          "name": "stdout",
          "text": [
            "created the node that represents the distrubted database system\n"
          ]
        }
      ]
    },
    {
      "cell_type": "code",
      "source": [
        "# simulates a continous stream of write opertaion on a database node\n",
        "def simulate_wrotes(node):\n",
        "    #used to generate unique keys for write operation\n",
        "    i =0\n",
        "    # continous loop\n",
        "    while True:\n",
        "      node.write_data(f\" k - {i}\", f\" v - {i}\")\n",
        "      #ensure unique key-vaule pair\n",
        "      i +=1\n",
        "      # pause excution for 2 seconds  before the next iteration"
      ],
      "metadata": {
        "id": "QwktLKA-ZX2w"
      },
      "execution_count": null,
      "outputs": []
    },
    {
      "cell_type": "code",
      "source": [
        "print(\"defined the methods to handle simualting a continuous stream of write opertaion\")"
      ],
      "metadata": {
        "colab": {
          "base_uri": "https://localhost:8080/"
        },
        "id": "3zNhkmQYa9G1",
        "outputId": "2afb4ceb-332b-4c7c-977c-4826f63cec0c"
      },
      "execution_count": null,
      "outputs": [
        {
          "output_type": "stream",
          "name": "stdout",
          "text": [
            "defined the methods to handle simualting a continuous stream of write opertaion\n"
          ]
        }
      ]
    },
    {
      "cell_type": "code",
      "source": [
        "# create two node instances\n",
        "#node1 = DatabaseNode(1)\n",
        "#node2 = DatabaseNode(2)\n"
      ],
      "metadata": {
        "id": "74kjkmJAbUx4"
      },
      "execution_count": null,
      "outputs": []
    },
    {
      "cell_type": "code",
      "source": [
        "# set up replication between the two nodes\n",
        "#nodel.replica_nodes.append(node2)\n",
        "#node2.replica_nodes.append(node1)"
      ],
      "metadata": {
        "id": "3VB2_COpdXeT"
      },
      "execution_count": null,
      "outputs": []
    },
    {
      "cell_type": "code",
      "source": [
        "print(\"initiialized the node instances and setup node replication\")"
      ],
      "metadata": {
        "colab": {
          "base_uri": "https://localhost:8080/"
        },
        "id": "ulJ-kPkReQ2u",
        "outputId": "12eb196e-70d3-4eee-bc2c-771367c28b68"
      },
      "execution_count": null,
      "outputs": [
        {
          "output_type": "stream",
          "name": "stdout",
          "text": [
            "initiialized the node instances and setup node replication\n"
          ]
        }
      ]
    },
    {
      "cell_type": "code",
      "source": [
        "#start write operations for nodel in a separated thread\n",
        "#threading.Thread(target=simulate_writes, args=(node1,)).start()"
      ],
      "metadata": {
        "id": "kBfoBuTGejyw"
      },
      "execution_count": null,
      "outputs": []
    },
    {
      "cell_type": "code",
      "source": [
        "# initiates a read operation on node1\n",
        "#node1.read_data(key0\")\n",
        "# pause 5 seconds to all write operations to be replicated between the nodes before reading again\n",
        "time.sleep(5)\n",
        "#performs a simlar read opertaion on node2, allow for replication of write operations between the nodes\n",
        "#node2.read_data(key0\")\n",
        "\n"
      ],
      "metadata": {
        "id": "N7fDZkvHfKbO"
      },
      "execution_count": null,
      "outputs": []
    }
  ]
}