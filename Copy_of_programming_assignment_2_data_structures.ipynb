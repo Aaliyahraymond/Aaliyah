{
  "nbformat": 4,
  "nbformat_minor": 0,
  "metadata": {
    "colab": {
      "provenance": [],
      "authorship_tag": "ABX9TyMAO0+57qxD3eVSPJXzN0Fu",
      "include_colab_link": true
    },
    "kernelspec": {
      "name": "python3",
      "display_name": "Python 3"
    },
    "language_info": {
      "name": "python"
    }
  },
  "cells": [
    {
      "cell_type": "markdown",
      "metadata": {
        "id": "view-in-github",
        "colab_type": "text"
      },
      "source": [
        "<a href=\"https://colab.research.google.com/github/Aaliyahraymond/Aaliyah/blob/main/Copy_of_programming_assignment_2_data_structures.ipynb\" target=\"_parent\"><img src=\"https://colab.research.google.com/assets/colab-badge.svg\" alt=\"Open In Colab\"/></a>"
      ]
    },
    {
      "cell_type": "markdown",
      "source": [
        "5.1 On PAGE 31 of the Python Textbook\n",
        "Fruits are acknowlege by their count, meaning how many times it is listed in the code using Fuits.count"
      ],
      "metadata": {
        "id": "OFkMvP1Aqjyk"
      }
    },
    {
      "cell_type": "code",
      "source": [
        ">>> fruits=['orange', 'apple', 'pear', 'banana', 'kiwi', 'apple', 'banana']\n",
        ">>> fruits.count('apple')"
      ],
      "metadata": {
        "colab": {
          "base_uri": "https://localhost:8080/"
        },
        "id": "zQ8Z45ltj41T",
        "outputId": "11510218-803a-4296-ea4e-aaf6013154c8"
      },
      "execution_count": null,
      "outputs": [
        {
          "output_type": "execute_result",
          "data": {
            "text/plain": [
              "2"
            ]
          },
          "metadata": {},
          "execution_count": 11
        }
      ]
    },
    {
      "cell_type": "code",
      "source": [
        ">>> fruits=['orange', 'apple', 'pear', 'banana', 'kiwi', 'apple', 'banana']\n",
        ">>> fruits.count('tangerine')"
      ],
      "metadata": {
        "id": "hyyTMuVjmyee",
        "colab": {
          "base_uri": "https://localhost:8080/"
        },
        "outputId": "1d4eaf7b-3c0e-4e06-bfc2-3f667ac241c1"
      },
      "execution_count": null,
      "outputs": [
        {
          "output_type": "execute_result",
          "data": {
            "text/plain": [
              "0"
            ]
          },
          "metadata": {},
          "execution_count": 12
        }
      ]
    },
    {
      "cell_type": "markdown",
      "source": [
        " Fruits are acknowlege by their place order within the code using Fuits.index\n"
      ],
      "metadata": {
        "id": "KESoX7K9rAly"
      }
    },
    {
      "cell_type": "code",
      "source": [
        ">>> fruits= ['orange', 'apple', 'pear', 'banana', 'kiwi', 'apple', 'banana']\n",
        ">>> fruits.index('banana')"
      ],
      "metadata": {
        "colab": {
          "base_uri": "https://localhost:8080/"
        },
        "id": "7pwqqKEFo8RF",
        "outputId": "095ca1c1-5127-45d2-aa9b-b44264107c6e"
      },
      "execution_count": null,
      "outputs": [
        {
          "output_type": "execute_result",
          "data": {
            "text/plain": [
              "3"
            ]
          },
          "metadata": {},
          "execution_count": 15
        }
      ]
    },
    {
      "cell_type": "code",
      "source": [
        ">>> fruits=['orange', 'apple', 'pear', 'banana', 'kiwi', 'apple', 'banana']\n",
        ">>> fruits.index('banana', 4) # Find next banana starting at postiton 4"
      ],
      "metadata": {
        "colab": {
          "base_uri": "https://localhost:8080/"
        },
        "id": "FAmOJUVwpF6g",
        "outputId": "9d863c23-6689-451e-e7ad-0136491c90d1"
      },
      "execution_count": null,
      "outputs": [
        {
          "output_type": "execute_result",
          "data": {
            "text/plain": [
              "6"
            ]
          },
          "metadata": {},
          "execution_count": 14
        }
      ]
    },
    {
      "cell_type": "markdown",
      "source": [
        "The fruit list is put in reverse order using Fruits.reverse"
      ],
      "metadata": {
        "id": "QAIZ3Y3As3mM"
      }
    },
    {
      "cell_type": "code",
      "source": [
        ">>> fruits=['orange', 'apple', 'pear', 'banana', 'kiwi', 'apple', 'banana']\n",
        ">>> fruits.reverse()\n",
        ">>> fruits"
      ],
      "metadata": {
        "colab": {
          "base_uri": "https://localhost:8080/"
        },
        "id": "m9Ip2uj0sZMM",
        "outputId": "f33e03b5-d923-43e0-fc7f-04f46e3b6000"
      },
      "execution_count": null,
      "outputs": [
        {
          "output_type": "execute_result",
          "data": {
            "text/plain": [
              "['banana', 'apple', 'kiwi', 'banana', 'pear', 'apple', 'orange']"
            ]
          },
          "metadata": {},
          "execution_count": 16
        }
      ]
    },
    {
      "cell_type": "markdown",
      "source": [
        "The fruit list is appended to include the word grape using grape using Fuits."
      ],
      "metadata": {
        "id": "xyqjXf6EtHpX"
      }
    },
    {
      "cell_type": "markdown",
      "source": [
        "The fruit list is appended to include the word grape using Fuits.append"
      ],
      "metadata": {
        "id": "6xYyXoKAtn4U"
      }
    },
    {
      "cell_type": "code",
      "source": [
        ">>> fruits=['orange', 'apple', 'pear', 'banana', 'kiwi', 'apple', 'banana']\n",
        ">>> fruits.append('grape')\n",
        ">>> fruits"
      ],
      "metadata": {
        "colab": {
          "base_uri": "https://localhost:8080/"
        },
        "id": "6_BPYI6nt3TI",
        "outputId": "f5728cd8-ad0b-488e-b0f4-1b3fcc7f293f"
      },
      "execution_count": null,
      "outputs": [
        {
          "output_type": "execute_result",
          "data": {
            "text/plain": [
              "['orange', 'apple', 'pear', 'banana', 'kiwi', 'apple', 'banana', 'grape']"
            ]
          },
          "metadata": {},
          "execution_count": 18
        }
      ]
    },
    {
      "cell_type": "markdown",
      "source": [
        "Here the fruit list is sorted using fruits.sort"
      ],
      "metadata": {
        "id": "5aZcw1M_uZkw"
      }
    },
    {
      "cell_type": "code",
      "source": [
        ">>> fruits=['orange', 'apple', 'pear', 'banana', 'kiwi', 'apple', 'banana']\n",
        ">>> fruits.sort()\n",
        ">>> fruits"
      ],
      "metadata": {
        "colab": {
          "base_uri": "https://localhost:8080/"
        },
        "id": "lRbcYViAuRKN",
        "outputId": "7d51150d-73f3-4885-bda9-20cb7bc03c0b"
      },
      "execution_count": null,
      "outputs": [
        {
          "output_type": "execute_result",
          "data": {
            "text/plain": [
              "['orange', 'apple', 'pear', 'banana', 'kiwi', 'apple', 'banana', 'grape']"
            ]
          },
          "metadata": {},
          "execution_count": 23
        }
      ]
    },
    {
      "cell_type": "code",
      "source": [
        ">>> fruits=['orange', 'apple', 'grape', 'banana', 'kiwi', 'apple', 'banana', 'pear']\n",
        ">>> fruits.pop()"
      ],
      "metadata": {
        "colab": {
          "base_uri": "https://localhost:8080/",
          "height": 35
        },
        "id": "-_5Wj95TvV3w",
        "outputId": "af688c10-2b4c-4d6c-e93f-c98b12eb1437"
      },
      "execution_count": null,
      "outputs": [
        {
          "output_type": "execute_result",
          "data": {
            "text/plain": [
              "'pear'"
            ],
            "application/vnd.google.colaboratory.intrinsic+json": {
              "type": "string"
            }
          },
          "metadata": {},
          "execution_count": 26
        }
      ]
    },
    {
      "cell_type": "markdown",
      "source": [
        "***5.1.1 ON PAGE 32 Using Lists as Stacks**\n",
        " I am adding the numbers 6 & 7 using stack.append"
      ],
      "metadata": {
        "id": "mSFLAKv4xxEd"
      }
    },
    {
      "cell_type": "code",
      "source": [
        ">>> stack = [3, 4, 5]\n",
        ">>> stack.append(6)\n",
        ">>> stack.append(7)\n",
        ">>> stack"
      ],
      "metadata": {
        "colab": {
          "base_uri": "https://localhost:8080/"
        },
        "id": "pJANBfZPuT07",
        "outputId": "ed5e58f2-e339-4453-820c-4ae8a17931c4"
      },
      "execution_count": null,
      "outputs": [
        {
          "output_type": "execute_result",
          "data": {
            "text/plain": [
              "[3, 4, 5, 6, 7]"
            ]
          },
          "metadata": {},
          "execution_count": 27
        }
      ]
    },
    {
      "cell_type": "markdown",
      "source": [
        "Here the number is removed and returned becuase no specific number was input into parentheses"
      ],
      "metadata": {
        "id": "j8oQU-uOy4c8"
      }
    },
    {
      "cell_type": "code",
      "source": [
        ">>> stack =[3, 4, 5, 6, 7]\n",
        ">>> stack.pop()"
      ],
      "metadata": {
        "colab": {
          "base_uri": "https://localhost:8080/"
        },
        "id": "L32El_ZOuTSW",
        "outputId": "352a089e-408b-47f8-e70b-fc45143b40b6"
      },
      "execution_count": null,
      "outputs": [
        {
          "output_type": "execute_result",
          "data": {
            "text/plain": [
              "7"
            ]
          },
          "metadata": {},
          "execution_count": 29
        }
      ]
    },
    {
      "cell_type": "code",
      "source": [
        ">>> stack =[3, 4, 5, 6,]\n",
        ">>> stack.pop()"
      ],
      "metadata": {
        "colab": {
          "base_uri": "https://localhost:8080/"
        },
        "id": "YOnz21-e4yMO",
        "outputId": "ab7c31a9-ed3e-4cce-d61d-1c702d864819"
      },
      "execution_count": null,
      "outputs": [
        {
          "output_type": "execute_result",
          "data": {
            "text/plain": [
              "6"
            ]
          },
          "metadata": {},
          "execution_count": 30
        }
      ]
    },
    {
      "cell_type": "code",
      "source": [
        ">>> stack =[3, 4, 5,]\n",
        ">>> stack.pop()"
      ],
      "metadata": {
        "colab": {
          "base_uri": "https://localhost:8080/"
        },
        "id": "vcrbjjau4x5h",
        "outputId": "d237e48a-5468-4004-c93f-05322e3b7af6"
      },
      "execution_count": null,
      "outputs": [
        {
          "output_type": "execute_result",
          "data": {
            "text/plain": [
              "5"
            ]
          },
          "metadata": {},
          "execution_count": 31
        }
      ]
    },
    {
      "cell_type": "markdown",
      "source": [],
      "metadata": {
        "id": "WoqN9oas4r7n"
      }
    },
    {
      "cell_type": "code",
      "source": [
        ">>> stack =[3, 4]\n",
        ">>> stack.pop()"
      ],
      "metadata": {
        "colab": {
          "base_uri": "https://localhost:8080/"
        },
        "id": "NpyBvM-h5S0g",
        "outputId": "febf2e7d-99b6-4ff8-b369-d5fdbc4d17c4"
      },
      "execution_count": null,
      "outputs": [
        {
          "output_type": "execute_result",
          "data": {
            "text/plain": [
              "4"
            ]
          },
          "metadata": {},
          "execution_count": 32
        }
      ]
    },
    {
      "cell_type": "markdown",
      "source": [
        "***5.1.2 ON PAGE 33 Using Lists as Queues**\n",
        "The order of arrival and depature is determined by queue.popleft& the added names to the deque are generated using queue.append"
      ],
      "metadata": {
        "id": "VLyULgh55s58"
      }
    },
    {
      "cell_type": "code",
      "source": [
        ">>> from collections import deque\n",
        ">>> queue = deque(['Eric\", \"John\", \"Michael\"'])\n",
        ">>> queue.append(\"Terry\")           # Terry arrives\n",
        ">>> queue.append(\"Graham\")          # Graham arrives\n",
        ">>> queue.popleft()                 # The first to arrive now leaves"
      ],
      "metadata": {
        "colab": {
          "base_uri": "https://localhost:8080/",
          "height": 35
        },
        "id": "7A8U-md66AKy",
        "outputId": "57d57097-9f74-46da-a32a-3d0e65c826f0"
      },
      "execution_count": null,
      "outputs": [
        {
          "output_type": "execute_result",
          "data": {
            "text/plain": [
              "'Eric\", \"John\", \"Michael\"'"
            ],
            "application/vnd.google.colaboratory.intrinsic+json": {
              "type": "string"
            }
          },
          "metadata": {},
          "execution_count": 34
        }
      ]
    },
    {
      "cell_type": "code",
      "source": [
        ">>> queue.popleft()"
      ],
      "metadata": {
        "colab": {
          "base_uri": "https://localhost:8080/",
          "height": 35
        },
        "id": "skCDx3db8vZp",
        "outputId": "b535ffce-68d5-4e40-c045-8e58a345a1f4"
      },
      "execution_count": null,
      "outputs": [
        {
          "output_type": "execute_result",
          "data": {
            "text/plain": [
              "'Terry'"
            ],
            "application/vnd.google.colaboratory.intrinsic+json": {
              "type": "string"
            }
          },
          "metadata": {},
          "execution_count": 35
        }
      ]
    },
    {
      "cell_type": "code",
      "source": [
        ">>> queue"
      ],
      "metadata": {
        "colab": {
          "base_uri": "https://localhost:8080/"
        },
        "id": "BIQoMgns9nJd",
        "outputId": "fcc8f652-ee91-4d65-c51d-1e41fab45424"
      },
      "execution_count": null,
      "outputs": [
        {
          "output_type": "execute_result",
          "data": {
            "text/plain": [
              "deque(['Graham'])"
            ]
          },
          "metadata": {},
          "execution_count": 36
        }
      ]
    },
    {
      "cell_type": "markdown",
      "source": [
        "**5.1.3 ON PAGE 33 Using Lists Comprehensions**\n",
        "\n",
        "This is a concise way to create lists"
      ],
      "metadata": {
        "id": "ZuulVG1d-U8_"
      }
    },
    {
      "cell_type": "code",
      "source": [
        ">>> squares = []\n",
        ">>> for x  in range(10):\n",
        "...     squares.append(x**2)\n",
        "...\n",
        ">>> squares"
      ],
      "metadata": {
        "colab": {
          "base_uri": "https://localhost:8080/"
        },
        "id": "k5SRF6eW-gRX",
        "outputId": "2191d3e1-86cf-4a28-ae40-8a937e6d1f43"
      },
      "execution_count": null,
      "outputs": [
        {
          "output_type": "execute_result",
          "data": {
            "text/plain": [
              "[0, 1, 4, 9, 16, 25, 36, 49, 64, 81]"
            ]
          },
          "metadata": {},
          "execution_count": 38
        }
      ]
    },
    {
      "cell_type": "markdown",
      "source": [
        "This overwrites a variable named x that still exits after the loop completes & calculates the list of squares without any side effects using"
      ],
      "metadata": {
        "id": "C7hLszXf_z_u"
      }
    },
    {
      "cell_type": "code",
      "source": [
        "squares = list (map(lambda x: x**2, range(10)))"
      ],
      "metadata": {
        "id": "1_qZT1fW_Rid"
      },
      "execution_count": null,
      "outputs": []
    },
    {
      "cell_type": "code",
      "source": [
        "squares = [x**2 for x in range (10)]"
      ],
      "metadata": {
        "id": "BT0EtpHxDD5M"
      },
      "execution_count": null,
      "outputs": []
    },
    {
      "cell_type": "code",
      "source": [
        ">>> [(x, y) for x in [1,2,3] for y in [3,1,4] if x != y]\n"
      ],
      "metadata": {
        "colab": {
          "base_uri": "https://localhost:8080/"
        },
        "id": "2yVahtSpDUez",
        "outputId": "74350b61-d9db-469f-a508-740b9d72e3aa"
      },
      "execution_count": null,
      "outputs": [
        {
          "output_type": "execute_result",
          "data": {
            "text/plain": [
              "[(1, 3), (1, 4), (2, 3), (2, 1), (2, 4), (3, 1), (3, 4)]"
            ]
          },
          "metadata": {},
          "execution_count": 49
        }
      ]
    }
  ]
}